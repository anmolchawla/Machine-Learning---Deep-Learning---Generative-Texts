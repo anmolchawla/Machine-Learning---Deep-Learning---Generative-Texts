{
  "nbformat": 4,
  "nbformat_minor": 0,
  "metadata": {
    "colab": {
      "name": "Anmol_Chawla_ML_HW6.ipynb",
      "version": "0.3.2",
      "views": {},
      "default_view": {},
      "provenance": [],
      "collapsed_sections": []
    },
    "kernelspec": {
      "name": "python3",
      "display_name": "Python 3"
    },
    "accelerator": "GPU"
  },
  "cells": [
    {
      "metadata": {
        "id": "pk1yWU2nm2Ip",
        "colab_type": "text"
      },
      "cell_type": "markdown",
      "source": [
        "# 1. Generative Models for Text\n",
        "\n",
        "(a) In this problem, we are trying to build a generative model to mimic the writing\n",
        "style of prominent British Mathematician, Philosopher, prolific writer, and\n",
        "political activist, Bertrand Russell.\n",
        "\n"
      ]
    },
    {
      "metadata": {
        "id": "RXyz9gT4nBBh",
        "colab_type": "text"
      },
      "cell_type": "markdown",
      "source": [
        "(b) Download the following books from Project Gutenberg http://www.gutenberg.\n",
        "org/ebooks/author/355 in text format:\n",
        "\n",
        "i. The Problems of Philosophy\n",
        "\n",
        "ii. The Analysis of Mind\n",
        "\n",
        "iii. Mysticism and Logic and Other Essays\n",
        "\n",
        "iv. Our Knowledge of the External World as a Field for Scientific Method in Philosophy\n",
        "\n",
        "Project Gutenberg adds a standard header and footer to each book and this is\n",
        "not part of the original text. Open the file in a text editor and delete the header\n",
        "and footer.\n",
        "The header is obvious and ends with the text:\n",
        "*** START OF THIS PROJECT GUTENBERG EBOOK AN INQUIRY INTO\n",
        "MEANING AND TRUTH ***\n",
        "The footer is all of the text after the line of text that says:\n",
        "THE END\n",
        "To have a better model, it is strongly recommended that you download the following\n",
        "books from The Library of Congress https://archive.org and convert\n",
        "them to text files:\n",
        "\n",
        "i. The History of Western Philosophy\n",
        "https://archive.org/details/westernphilosophy4\n",
        "\n",
        "ii. The Analysis of Matter\n",
        "https://archive.org/details/in.ernet.dli.2015.221533\n",
        "\n",
        "iii. An Inquiry into Meaning and Truth\n",
        "https://archive.org/details/BertrandRussell-AnInquaryIntoMeaningAndTruth\n",
        "\n",
        "Try to only use the text of the books and throw away unwanted text before and\n",
        "after the text, although in a large corpus, these are considered as noise and should\n",
        "not make big problems.\n",
        "\n",
        "\n",
        "Note:If this is a large corpus for your computer’s power and it makes training LSTM hard, use as many of\n",
        "the books as possible.\n"
      ]
    },
    {
      "metadata": {
        "id": "_AW11elqOmYr",
        "colab_type": "code",
        "colab": {
          "autoexec": {
            "startup": false,
            "wait_interval": 0
          }
        }
      },
      "cell_type": "code",
      "source": [
        "# Install the PyDrive wrapper & import libraries.\n",
        "# This only needs to be done once per notebook.\n",
        "!pip install -U -q PyDrive\n",
        "from pydrive.auth import GoogleAuth\n",
        "from pydrive.drive import GoogleDrive\n",
        "from google.colab import auth\n",
        "from oauth2client.client import GoogleCredentials\n",
        "\n",
        "# Authenticate and create the PyDrive client.\n",
        "# This only needs to be done once per notebook.\n",
        "auth.authenticate_user()\n",
        "gauth = GoogleAuth()\n",
        "gauth.credentials = GoogleCredentials.get_application_default()\n",
        "drive = GoogleDrive(gauth)\n",
        "\n",
        "# Download a file based on its file ID.\n",
        "#\n",
        "# A file ID looks like: laggVyWshwcyP6kEI-y_W3P8D26sz\n",
        "downloaded1 = drive.CreateFile({'id':'1gGu4JD7Cv5evlQNswWq1m7fKNKS8Pmg9'})\n",
        "downloaded1.GetContentFile('book.txt')\n"
      ],
      "execution_count": 0,
      "outputs": []
    },
    {
      "metadata": {
        "id": "6YfgVU-qPkF-",
        "colab_type": "code",
        "colab": {
          "autoexec": {
            "startup": false,
            "wait_interval": 0
          }
        }
      },
      "cell_type": "code",
      "source": [
        "import csv \n",
        "import pandas as pd\n",
        "import numpy as np\n",
        "import string\n",
        "\n",
        "from keras.models import Sequential\n",
        "from keras.layers import Dense\n",
        "from keras.layers import LSTM\n",
        "from keras.layers import Dropout\n",
        "from keras.optimizers import Adam\n",
        "from sklearn.preprocessing import OneHotEncoder\n",
        "from keras.callbacks import ModelCheckpoint"
      ],
      "execution_count": 0,
      "outputs": []
    },
    {
      "metadata": {
        "id": "TOYwWD9QniTk",
        "colab_type": "text"
      },
      "cell_type": "markdown",
      "source": [
        "## (c) LSTM: Train an LSTM to mimic Russell’s style and thoughts:"
      ]
    },
    {
      "metadata": {
        "id": "OKFsbSkqp1J_",
        "colab_type": "text"
      },
      "cell_type": "markdown",
      "source": [
        "\n",
        "i. Concatenate your text files to create a corpus of Russell’s writings.\n"
      ]
    },
    {
      "metadata": {
        "id": "G3O6KgC5XrUT",
        "colab_type": "code",
        "colab": {
          "autoexec": {
            "startup": false,
            "wait_interval": 0
          }
        }
      },
      "cell_type": "code",
      "source": [
        "data = \"\"\n",
        "with open(\"book.txt\", encoding = 'utf-8') as f:\n",
        "    for line in f:\n",
        "        data += line + \" \""
      ],
      "execution_count": 0,
      "outputs": []
    },
    {
      "metadata": {
        "id": "RoZEfMBaqvmx",
        "colab_type": "text"
      },
      "cell_type": "markdown",
      "source": [
        "\n",
        "ii. Use a character-level representation for this model by using extended ASCII\n",
        "that has N = 256 characters. Each character will be encoded into a an integer\n",
        "using its ASCII code. Rescale the integers to the range [0, 1], because LSTM uses a sigmoid activation function. LSTM will receive the rescaled integers\n",
        "as its input.2\n",
        "\n",
        "\n",
        "2.A smarter way is to parse the whole corpus to figure out how many distinct characters you have in the\n",
        "corpus (the number may be less than 256, e.g., 53). One can also disregard lowercase and uppercase letters\n",
        "or even remove punctuation characters such as !.\n",
        "\n",
        "\n"
      ]
    },
    {
      "metadata": {
        "id": "0ckXI1xkLEx2",
        "colab_type": "code",
        "colab": {
          "autoexec": {
            "startup": false,
            "wait_interval": 0
          }
        }
      },
      "cell_type": "code",
      "source": [
        "data = data.lower()\n",
        "exclude = set(string.punctuation) \n",
        "exclude.add('\\xa0')\n",
        "exclude.add('″')\n",
        "exclude.add('\\ufeff')\n",
        "exclude.add('\\n')\n",
        "data = ''.join(ch for ch in data if ch not in exclude)"
      ],
      "execution_count": 0,
      "outputs": []
    },
    {
      "metadata": {
        "id": "qjgSii0GOO1e",
        "colab_type": "code",
        "colab": {
          "autoexec": {
            "startup": false,
            "wait_interval": 0
          }
        }
      },
      "cell_type": "code",
      "source": [
        "data = data[:40000]\n",
        "unique = sorted(list(set(data)))\n"
      ],
      "execution_count": 0,
      "outputs": []
    },
    {
      "metadata": {
        "id": "fd2cyXmYZhQw",
        "colab_type": "code",
        "colab": {
          "autoexec": {
            "startup": false,
            "wait_interval": 0
          },
          "base_uri": "https://localhost:8080/",
          "height": 53
        },
        "outputId": "4ab8d0f7-f91d-47f7-840f-26a68adc62c6",
        "executionInfo": {
          "status": "ok",
          "timestamp": 1525492328079,
          "user_tz": 420,
          "elapsed": 243,
          "user": {
            "displayName": "Anmol Chawla",
            "photoUrl": "//lh4.googleusercontent.com/-ehc24lPSfwY/AAAAAAAAAAI/AAAAAAAAAA8/KJ_dyDx6CsY/s50-c-k-no/photo.jpg",
            "userId": "106476212862262781881"
          }
        }
      },
      "cell_type": "code",
      "source": [
        "print(len(data))\n",
        "print(unique)\n"
      ],
      "execution_count": 0,
      "outputs": [
        {
          "output_type": "stream",
          "text": [
            "40000\n",
            "[' ', '0', '1', '2', '3', '4', '5', '6', '7', '8', '9', 'a', 'b', 'c', 'd', 'e', 'f', 'g', 'h', 'i', 'j', 'k', 'l', 'm', 'n', 'o', 'p', 'q', 'r', 's', 't', 'u', 'v', 'w', 'x', 'y', 'z']\n"
          ],
          "name": "stdout"
        }
      ]
    },
    {
      "metadata": {
        "id": "T5BcGRcRcc3J",
        "colab_type": "code",
        "colab": {
          "autoexec": {
            "startup": false,
            "wait_interval": 0
          }
        }
      },
      "cell_type": "code",
      "source": [
        "ref = {}\n",
        "for ch in unique:\n",
        "  ref[ch] = unique.index(ch)/len(unique)\n",
        "  "
      ],
      "execution_count": 0,
      "outputs": []
    },
    {
      "metadata": {
        "id": "0nhbmVwod_Le",
        "colab_type": "code",
        "colab": {
          "autoexec": {
            "startup": false,
            "wait_interval": 0
          },
          "base_uri": "https://localhost:8080/",
          "height": 55
        },
        "outputId": "ae95cc9e-d254-45d5-d60b-8ffdf30b484c",
        "executionInfo": {
          "status": "ok",
          "timestamp": 1525492335329,
          "user_tz": 420,
          "elapsed": 258,
          "user": {
            "displayName": "Anmol Chawla",
            "photoUrl": "//lh4.googleusercontent.com/-ehc24lPSfwY/AAAAAAAAAAI/AAAAAAAAAA8/KJ_dyDx6CsY/s50-c-k-no/photo.jpg",
            "userId": "106476212862262781881"
          }
        }
      },
      "cell_type": "code",
      "source": [
        "print(ref)"
      ],
      "execution_count": 0,
      "outputs": [
        {
          "output_type": "stream",
          "text": [
            "{' ': 0.0, '0': 0.02702702702702703, '1': 0.05405405405405406, '2': 0.08108108108108109, '3': 0.10810810810810811, '4': 0.13513513513513514, '5': 0.16216216216216217, '6': 0.1891891891891892, '7': 0.21621621621621623, '8': 0.24324324324324326, '9': 0.2702702702702703, 'a': 0.2972972972972973, 'b': 0.32432432432432434, 'c': 0.35135135135135137, 'd': 0.3783783783783784, 'e': 0.40540540540540543, 'f': 0.43243243243243246, 'g': 0.4594594594594595, 'h': 0.4864864864864865, 'i': 0.5135135135135135, 'j': 0.5405405405405406, 'k': 0.5675675675675675, 'l': 0.5945945945945946, 'm': 0.6216216216216216, 'n': 0.6486486486486487, 'o': 0.6756756756756757, 'p': 0.7027027027027027, 'q': 0.7297297297297297, 'r': 0.7567567567567568, 's': 0.7837837837837838, 't': 0.8108108108108109, 'u': 0.8378378378378378, 'v': 0.8648648648648649, 'w': 0.8918918918918919, 'x': 0.918918918918919, 'y': 0.9459459459459459, 'z': 0.972972972972973}\n"
          ],
          "name": "stdout"
        }
      ]
    },
    {
      "metadata": {
        "id": "l5VqltkAxJwh",
        "colab_type": "code",
        "colab": {
          "autoexec": {
            "startup": false,
            "wait_interval": 0
          },
          "base_uri": "https://localhost:8080/",
          "height": 35
        },
        "outputId": "e2e62c5c-b45e-4437-f376-79ac3d9cfcfa",
        "executionInfo": {
          "status": "ok",
          "timestamp": 1525492345142,
          "user_tz": 420,
          "elapsed": 299,
          "user": {
            "displayName": "Anmol Chawla",
            "photoUrl": "//lh4.googleusercontent.com/-ehc24lPSfwY/AAAAAAAAAAI/AAAAAAAAAA8/KJ_dyDx6CsY/s50-c-k-no/photo.jpg",
            "userId": "106476212862262781881"
          }
        }
      },
      "cell_type": "code",
      "source": [
        "len(ref.keys())"
      ],
      "execution_count": 0,
      "outputs": [
        {
          "output_type": "execute_result",
          "data": {
            "text/plain": [
              "37"
            ]
          },
          "metadata": {
            "tags": []
          },
          "execution_count": 240
        }
      ]
    },
    {
      "metadata": {
        "id": "0e1nmamXq7JQ",
        "colab_type": "text"
      },
      "cell_type": "markdown",
      "source": [
        "iii. Choose a window size, e.g., W = 100."
      ]
    },
    {
      "metadata": {
        "id": "WBM07TqecRd9",
        "colab_type": "code",
        "colab": {
          "autoexec": {
            "startup": false,
            "wait_interval": 0
          },
          "base_uri": "https://localhost:8080/",
          "height": 213
        },
        "outputId": "f1a471bc-4d2b-4d1d-f141-ce9c86abdbc8",
        "executionInfo": {
          "status": "ok",
          "timestamp": 1525492359096,
          "user_tz": 420,
          "elapsed": 251,
          "user": {
            "displayName": "Anmol Chawla",
            "photoUrl": "//lh4.googleusercontent.com/-ehc24lPSfwY/AAAAAAAAAAI/AAAAAAAAAA8/KJ_dyDx6CsY/s50-c-k-no/photo.jpg",
            "userId": "106476212862262781881"
          }
        }
      },
      "cell_type": "code",
      "source": [
        "window = 100\n",
        "ip = data\n",
        "lstm_ip = [ref[x] for x in ip]\n",
        "lstm_ip[:10], ip[:10]"
      ],
      "execution_count": 0,
      "outputs": [
        {
          "output_type": "execute_result",
          "data": {
            "text/plain": [
              "([0.35135135135135137,\n",
              "  0.4864864864864865,\n",
              "  0.2972972972972973,\n",
              "  0.7027027027027027,\n",
              "  0.8108108108108109,\n",
              "  0.40540540540540543,\n",
              "  0.7567567567567568,\n",
              "  0.0,\n",
              "  0.5135135135135135,\n",
              "  0.0],\n",
              " 'chapter i ')"
            ]
          },
          "metadata": {
            "tags": []
          },
          "execution_count": 241
        }
      ]
    },
    {
      "metadata": {
        "id": "oLBqvRzonV-e",
        "colab_type": "code",
        "colab": {
          "autoexec": {
            "startup": false,
            "wait_interval": 0
          },
          "base_uri": "https://localhost:8080/",
          "height": 35
        },
        "collapsed": true,
        "cellView": "code",
        "outputId": "312f0ab1-dc49-4aec-c30b-e7f7e2da25f7",
        "executionInfo": {
          "status": "ok",
          "timestamp": 1525492370738,
          "user_tz": 420,
          "elapsed": 1820,
          "user": {
            "displayName": "Anmol Chawla",
            "photoUrl": "//lh4.googleusercontent.com/-ehc24lPSfwY/AAAAAAAAAAI/AAAAAAAAAA8/KJ_dyDx6CsY/s50-c-k-no/photo.jpg",
            "userId": "106476212862262781881"
          }
        }
      },
      "cell_type": "code",
      "source": [
        "columns = range(1,window)\n",
        "\n",
        "lstm_x = pd.DataFrame(columns=columns)\n",
        "for i in columns:\n",
        "  lstm_x[i] = lstm_ip[i-1:-window+i-1]\n",
        "lstm_x.shape"
      ],
      "execution_count": 0,
      "outputs": [
        {
          "output_type": "execute_result",
          "data": {
            "text/plain": [
              "(39900, 99)"
            ]
          },
          "metadata": {
            "tags": []
          },
          "execution_count": 242
        }
      ]
    },
    {
      "metadata": {
        "id": "Mw5o7KgyrEW8",
        "colab_type": "code",
        "colab": {
          "autoexec": {
            "startup": false,
            "wait_interval": 0
          },
          "base_uri": "https://localhost:8080/",
          "height": 55
        },
        "outputId": "2ccfa160-ff76-471a-f498-80a4d7149222",
        "executionInfo": {
          "status": "ok",
          "timestamp": 1525492375225,
          "user_tz": 420,
          "elapsed": 251,
          "user": {
            "displayName": "Anmol Chawla",
            "photoUrl": "//lh4.googleusercontent.com/-ehc24lPSfwY/AAAAAAAAAAI/AAAAAAAAAA8/KJ_dyDx6CsY/s50-c-k-no/photo.jpg",
            "userId": "106476212862262781881"
          }
        }
      },
      "cell_type": "code",
      "source": [
        "ref.values()"
      ],
      "execution_count": 0,
      "outputs": [
        {
          "output_type": "execute_result",
          "data": {
            "text/plain": [
              "dict_values([0.0, 0.02702702702702703, 0.05405405405405406, 0.08108108108108109, 0.10810810810810811, 0.13513513513513514, 0.16216216216216217, 0.1891891891891892, 0.21621621621621623, 0.24324324324324326, 0.2702702702702703, 0.2972972972972973, 0.32432432432432434, 0.35135135135135137, 0.3783783783783784, 0.40540540540540543, 0.43243243243243246, 0.4594594594594595, 0.4864864864864865, 0.5135135135135135, 0.5405405405405406, 0.5675675675675675, 0.5945945945945946, 0.6216216216216216, 0.6486486486486487, 0.6756756756756757, 0.7027027027027027, 0.7297297297297297, 0.7567567567567568, 0.7837837837837838, 0.8108108108108109, 0.8378378378378378, 0.8648648648648649, 0.8918918918918919, 0.918918918918919, 0.9459459459459459, 0.972972972972973])"
            ]
          },
          "metadata": {
            "tags": []
          },
          "execution_count": 243
        }
      ]
    },
    {
      "metadata": {
        "id": "zL60ictXqgFD",
        "colab_type": "code",
        "colab": {
          "autoexec": {
            "startup": false,
            "wait_interval": 0
          },
          "base_uri": "https://localhost:8080/",
          "height": 35
        },
        "outputId": "97f60d3a-be6c-4b50-b10e-7635bdb11141",
        "executionInfo": {
          "status": "ok",
          "timestamp": 1525492379941,
          "user_tz": 420,
          "elapsed": 266,
          "user": {
            "displayName": "Anmol Chawla",
            "photoUrl": "//lh4.googleusercontent.com/-ehc24lPSfwY/AAAAAAAAAAI/AAAAAAAAAA8/KJ_dyDx6CsY/s50-c-k-no/photo.jpg",
            "userId": "106476212862262781881"
          }
        }
      },
      "cell_type": "code",
      "source": [
        "lstm_op = pd.Series(lstm_ip[window-1:-1])\n",
        "lstm_op\n",
        "lstm_y = pd.get_dummies(lstm_op, columns = ref.values())\n",
        "lstm_y.shape\n"
      ],
      "execution_count": 0,
      "outputs": [
        {
          "output_type": "execute_result",
          "data": {
            "text/plain": [
              "(39900, 37)"
            ]
          },
          "metadata": {
            "tags": []
          },
          "execution_count": 244
        }
      ]
    },
    {
      "metadata": {
        "id": "AM6lTjmCrZfa",
        "colab_type": "text"
      },
      "cell_type": "markdown",
      "source": [
        "iv. Inputs to the network will be the first W −1 = 99 characters of each sequence,\n",
        "and the output of the network will be the L\n",
        "th character of the sequence.\n",
        "Basically, we are training the network to predict the each character using the\n",
        "99 characters that precede it. Slide the window in strides of S = 1 on the\n",
        "text. For example, if W = 5 and S = 1 and we want to train the network\n",
        "with the sequence ABRACADABRA, The first input to the network will be\n",
        "ABRA and the corresponding output will be C. The second input will be\n",
        "BRAC and the second output will be A, etc"
      ]
    },
    {
      "metadata": {
        "id": "MTKgbcdmr5Bx",
        "colab_type": "text"
      },
      "cell_type": "markdown",
      "source": [
        "v. Note that the output has to be encoded using a one-hot encoding scheme with\n",
        "N = 256 (or less) elements. This means that the network reads integers, but\n",
        "outputs a vector of N = 256 (or less) elements."
      ]
    },
    {
      "metadata": {
        "id": "W1r4yPAir-tb",
        "colab_type": "text"
      },
      "cell_type": "markdown",
      "source": [
        "vi. Use a single hidden layer for the LSTM with N = 256 (or less) memory units."
      ]
    },
    {
      "metadata": {
        "id": "HfZrOZXfsEw6",
        "colab_type": "text"
      },
      "cell_type": "markdown",
      "source": [
        "vii. Use a Softmax output layer to yield a probability prediction for each of the\n",
        "characters between 0 and 1. This is actually a character classification problem\n",
        "with N classes. Choose log loss (cross entropy) as the objective function for\n",
        "the network (research what it menas).3\n",
        "\n",
        "\n",
        "3\n",
        "In Keras, you can use the ADAM optimization algorithm for speed.\n"
      ]
    },
    {
      "metadata": {
        "id": "frLhvAAus13d",
        "colab_type": "text"
      },
      "cell_type": "markdown",
      "source": [
        "ix. Choose a reasonable number of epochs for training (e.g., 30, although the\n",
        "network will need more epochs to yield a better model)."
      ]
    },
    {
      "metadata": {
        "id": "9cXyy2q_sL6Z",
        "colab_type": "text"
      },
      "cell_type": "markdown",
      "source": [
        "viii. We do not use a test dataset. We are using the whole training dataset to\n",
        "learn the probability of each character in a sequence. We are not seeking for\n",
        "a very accurate model of. Instead we are interested in a generalization of the\n",
        "dataset that can mimic the gist of the text."
      ]
    },
    {
      "metadata": {
        "id": "SbQgOXhuyniT",
        "colab_type": "code",
        "colab": {
          "autoexec": {
            "startup": false,
            "wait_interval": 0
          }
        }
      },
      "cell_type": "code",
      "source": [
        "def create_model(input_shape, unique_chars):\n",
        "    regressor = Sequential()\n",
        "    regressor.add(LSTM(units = unique_chars, return_sequences = False, input_shape = (input_shape, 1)))\n",
        "    regressor.add(Dropout(0.1))\n",
        "    regressor.add(Dense(units = unique_chars, activation ='softmax'))\n",
        "    optimizer = Adam(lr=0.1, beta_1=0.9, beta_2=0.999, epsilon=None, decay=0, amsgrad=False)\n",
        "    regressor.compile(optimizer = optimizer, loss = 'categorical_crossentropy')\n",
        "    return regressor"
      ],
      "execution_count": 0,
      "outputs": []
    },
    {
      "metadata": {
        "id": "3ArFsnzGZMGM",
        "colab_type": "code",
        "colab": {
          "autoexec": {
            "startup": false,
            "wait_interval": 0
          },
          "base_uri": "https://localhost:8080/",
          "height": 35
        },
        "outputId": "84bbcffc-7fd0-45eb-f973-bac0ae6f82ff",
        "executionInfo": {
          "status": "ok",
          "timestamp": 1525492415259,
          "user_tz": 420,
          "elapsed": 504,
          "user": {
            "displayName": "Anmol Chawla",
            "photoUrl": "//lh4.googleusercontent.com/-ehc24lPSfwY/AAAAAAAAAAI/AAAAAAAAAA8/KJ_dyDx6CsY/s50-c-k-no/photo.jpg",
            "userId": "106476212862262781881"
          }
        }
      },
      "cell_type": "code",
      "source": [
        "regressor = create_model(input_shape = window-1, unique_chars = len(ref.keys()))\n",
        "regressor"
      ],
      "execution_count": 0,
      "outputs": [
        {
          "output_type": "execute_result",
          "data": {
            "text/plain": [
              "<keras.models.Sequential at 0x7ff3e59841d0>"
            ]
          },
          "metadata": {
            "tags": []
          },
          "execution_count": 246
        }
      ]
    },
    {
      "metadata": {
        "id": "fFunhCOscSc0",
        "colab_type": "code",
        "colab": {
          "autoexec": {
            "startup": false,
            "wait_interval": 0
          }
        }
      },
      "cell_type": "code",
      "source": [
        "lstm_x_ = np.array(lstm_x).reshape(-1, 99, 1)"
      ],
      "execution_count": 0,
      "outputs": []
    },
    {
      "metadata": {
        "id": "85GuPx45a_Y-",
        "colab_type": "code",
        "colab": {
          "autoexec": {
            "startup": false,
            "wait_interval": 0
          },
          "base_uri": "https://localhost:8080/",
          "height": 1119
        },
        "outputId": "70be5411-a9e5-46f3-e9e8-1316f092c0db",
        "executionInfo": {
          "status": "ok",
          "timestamp": 1525492687124,
          "user_tz": 420,
          "elapsed": 258137,
          "user": {
            "displayName": "Anmol Chawla",
            "photoUrl": "//lh4.googleusercontent.com/-ehc24lPSfwY/AAAAAAAAAAI/AAAAAAAAAA8/KJ_dyDx6CsY/s50-c-k-no/photo.jpg",
            "userId": "106476212862262781881"
          }
        }
      },
      "cell_type": "code",
      "source": [
        "regressor.fit(lstm_x_, lstm_y, validation_split=0.2, epochs=30, shuffle=True, window=1000, verbose=1)"
      ],
      "execution_count": 0,
      "outputs": [
        {
          "output_type": "stream",
          "text": [
            "Train on 31920 samples, validate on 7980 samples\n",
            "Epoch 1/30\n",
            "31920/31920 [==============================] - 9s 293us/step - loss: 2.8787 - val_loss: 2.7727\n",
            "Epoch 2/30\n",
            "31920/31920 [==============================] - 9s 269us/step - loss: 2.7229 - val_loss: 2.6754\n",
            "Epoch 3/30\n",
            "31920/31920 [==============================] - 8s 266us/step - loss: 2.6525 - val_loss: 2.6194\n",
            "Epoch 4/30\n",
            "31920/31920 [==============================] - 9s 268us/step - loss: 2.6109 - val_loss: 2.5832\n",
            "Epoch 5/30\n",
            "31920/31920 [==============================] - 9s 268us/step - loss: 2.5812 - val_loss: 2.5692\n",
            "Epoch 6/30\n",
            "31920/31920 [==============================] - 9s 268us/step - loss: 2.5620 - val_loss: 2.5439\n",
            "Epoch 7/30\n",
            "28000/31920 [=========================>....] - ETA: 0s - loss: 2.5418"
          ],
          "name": "stdout"
        },
        {
          "output_type": "stream",
          "text": [
            "31920/31920 [==============================] - 9s 271us/step - loss: 2.5440 - val_loss: 2.5142\n",
            "Epoch 8/30\n",
            "31920/31920 [==============================] - 9s 267us/step - loss: 2.5253 - val_loss: 2.4928\n",
            "Epoch 9/30\n",
            "31920/31920 [==============================] - 9s 269us/step - loss: 2.5041 - val_loss: 2.4776\n",
            "Epoch 10/30\n",
            "31920/31920 [==============================] - 9s 267us/step - loss: 2.4825 - val_loss: 2.4804\n",
            "Epoch 11/30\n",
            "31920/31920 [==============================] - 9s 268us/step - loss: 2.4721 - val_loss: 2.4617\n",
            "Epoch 12/30\n",
            "31920/31920 [==============================] - 9s 267us/step - loss: 2.4517 - val_loss: 2.4412\n",
            "Epoch 13/30\n",
            "31920/31920 [==============================] - 9s 267us/step - loss: 2.4455 - val_loss: 2.4264\n",
            "Epoch 14/30\n",
            "14000/31920 [============>.................] - ETA: 4s - loss: 2.4213"
          ],
          "name": "stdout"
        },
        {
          "output_type": "stream",
          "text": [
            "31920/31920 [==============================] - 9s 269us/step - loss: 2.4303 - val_loss: 2.4075\n",
            "Epoch 15/30\n",
            "31920/31920 [==============================] - 9s 267us/step - loss: 2.4032 - val_loss: 2.3913\n",
            "Epoch 16/30\n",
            "31920/31920 [==============================] - 9s 269us/step - loss: 2.3994 - val_loss: 2.3887\n",
            "Epoch 17/30\n",
            "31920/31920 [==============================] - 9s 267us/step - loss: 2.3812 - val_loss: 2.3905\n",
            "Epoch 18/30\n",
            "31920/31920 [==============================] - 9s 268us/step - loss: 2.3729 - val_loss: 2.3685\n",
            "Epoch 19/30\n",
            "31920/31920 [==============================] - 9s 267us/step - loss: 2.3537 - val_loss: 2.3511\n",
            "Epoch 20/30\n",
            "31920/31920 [==============================] - 9s 269us/step - loss: 2.3516 - val_loss: 2.3448\n",
            "Epoch 21/30\n",
            "12000/31920 [==========>...................] - ETA: 5s - loss: 2.3256"
          ],
          "name": "stdout"
        },
        {
          "output_type": "stream",
          "text": [
            "31920/31920 [==============================] - 9s 269us/step - loss: 2.3373 - val_loss: 2.3516\n",
            "Epoch 22/30\n",
            "31920/31920 [==============================] - 8s 264us/step - loss: 2.3354 - val_loss: 2.3455\n",
            "Epoch 23/30\n",
            "31920/31920 [==============================] - 9s 267us/step - loss: 2.3202 - val_loss: 2.3334\n",
            "Epoch 24/30\n",
            "31920/31920 [==============================] - 9s 267us/step - loss: 2.3079 - val_loss: 2.3234\n",
            "Epoch 25/30\n",
            "31920/31920 [==============================] - 8s 266us/step - loss: 2.3055 - val_loss: 2.3236\n",
            "Epoch 26/30\n",
            "31920/31920 [==============================] - 8s 266us/step - loss: 2.2911 - val_loss: 2.2998\n",
            "Epoch 27/30\n",
            "31920/31920 [==============================] - 8s 265us/step - loss: 2.2819 - val_loss: 2.3222\n",
            "Epoch 28/30\n",
            "12000/31920 [==========>...................] - ETA: 4s - loss: 2.2788"
          ],
          "name": "stdout"
        },
        {
          "output_type": "stream",
          "text": [
            "31920/31920 [==============================] - 8s 263us/step - loss: 2.2818 - val_loss: 2.2951\n",
            "Epoch 29/30\n",
            "31920/31920 [==============================] - 8s 266us/step - loss: 2.2756 - val_loss: 2.2938\n",
            "Epoch 30/30\n",
            "31920/31920 [==============================] - 9s 267us/step - loss: 2.2691 - val_loss: 2.2914\n"
          ],
          "name": "stdout"
        },
        {
          "output_type": "execute_result",
          "data": {
            "text/plain": [
              "<keras.callbacks.History at 0x7ff39da51b38>"
            ]
          },
          "metadata": {
            "tags": []
          },
          "execution_count": 248
        }
      ]
    },
    {
      "metadata": {
        "id": "VypGete-dhAh",
        "colab_type": "code",
        "colab": {
          "autoexec": {
            "startup": false,
            "wait_interval": 0
          },
          "base_uri": "https://localhost:8080/",
          "height": 53
        },
        "outputId": "060ca6f1-089e-4220-ae6a-6d7a75ae546d",
        "executionInfo": {
          "status": "ok",
          "timestamp": 1525492696513,
          "user_tz": 420,
          "elapsed": 783,
          "user": {
            "displayName": "Anmol Chawla",
            "photoUrl": "//lh4.googleusercontent.com/-ehc24lPSfwY/AAAAAAAAAAI/AAAAAAAAAA8/KJ_dyDx6CsY/s50-c-k-no/photo.jpg",
            "userId": "106476212862262781881"
          }
        }
      },
      "cell_type": "code",
      "source": [
        "pred = regressor.predict(lstm_x_[0:100])\n",
        "for vec in pred:\n",
        "    print(unique[np.where(vec == max(vec))[0][0]], end=\"\")\n",
        "print()\n",
        "for vec in np.array(lstm_y[:100]):\n",
        "    print(unique[np.where(vec == max(vec))[0][0]], end=\"\")\n"
      ],
      "execution_count": 0,
      "outputs": [
        {
          "output_type": "stream",
          "text": [
            "hali  tle tojebe    tnren ie the  to se  n th ch tn an e etheneein e eto  thel tnf eri e te thelc  i\n",
            "easonable man could doubt it this question which at first sight might not seem difficult is really o"
          ],
          "name": "stdout"
        }
      ]
    },
    {
      "metadata": {
        "id": "D1ePHXYbrUz8",
        "colab_type": "text"
      },
      "cell_type": "markdown",
      "source": [
        " SAMPLE 3\n",
        " eelen  l  tfteiele  teret tn thes ier    n thech te teee  the   of    te  the  teniecel  tn thelen t\n",
        "easonable man could doubt it this question which at first sight might not seem difficult is really o"
      ]
    },
    {
      "metadata": {
        "id": "81tYThPtktgU",
        "colab_type": "text"
      },
      "cell_type": "markdown",
      "source": [
        "SAMPLE 2\n",
        "hesen     tnteted   tere  tn the  toeet nn thech t  te e  the e of e  te ethe  terfecul  tn thes   t\n",
        "easonable man could doubt it this question which at first sight might not seem difficult is really o"
      ]
    },
    {
      "metadata": {
        "id": "VYvGbyAlkB6J",
        "colab_type": "text"
      },
      "cell_type": "markdown",
      "source": [
        "Sample 1\n",
        "(100, 37) (100, 37)\n",
        "he en     to eae en te    tn the  ae ee  g th ch te te ee th    of    tf  the  te  erea  tn the    t\n",
        "easonable man could doubt it this question which at first sight might not seem difficult is really o"
      ]
    },
    {
      "metadata": {
        "id": "WUbbvUqHs5Pf",
        "colab_type": "text"
      },
      "cell_type": "markdown",
      "source": [
        "x. Use model checkpointing to keep the network weights to determine each time\n",
        "an improvement in loss is observed at the end of the epoch. Find the best set\n",
        "of weights in terms of loss."
      ]
    },
    {
      "metadata": {
        "id": "1Tmf0tVWrlnT",
        "colab_type": "code",
        "colab": {
          "autoexec": {
            "startup": false,
            "wait_interval": 0
          }
        }
      },
      "cell_type": "code",
      "source": [
        "filepath=\"weights.best.hdf5\"\n",
        "checkpoint = ModelCheckpoint(filepath, monitor='val_loss', verbose=1, save_best_only=True, mode='min')\n",
        "callbacks_list = [checkpoint]"
      ],
      "execution_count": 0,
      "outputs": []
    },
    {
      "metadata": {
        "id": "diMNQCYfr61v",
        "colab_type": "code",
        "colab": {
          "autoexec": {
            "startup": false,
            "wait_interval": 0
          },
          "base_uri": "https://localhost:8080/",
          "height": 2186
        },
        "outputId": "eee263d9-5059-4c0c-efa0-0e47c0bfba10",
        "executionInfo": {
          "status": "ok",
          "timestamp": 1525492967687,
          "user_tz": 420,
          "elapsed": 258478,
          "user": {
            "displayName": "Anmol Chawla",
            "photoUrl": "//lh4.googleusercontent.com/-ehc24lPSfwY/AAAAAAAAAAI/AAAAAAAAAA8/KJ_dyDx6CsY/s50-c-k-no/photo.jpg",
            "userId": "106476212862262781881"
          }
        }
      },
      "cell_type": "code",
      "source": [
        " regressor.fit(lstm_x_, lstm_y, validation_split=0.2, epochs=30, shuffle=True, batch_size=1000, callbacks=callbacks_list, verbose=1)"
      ],
      "execution_count": 0,
      "outputs": [
        {
          "output_type": "stream",
          "text": [
            "Train on 31920 samples, validate on 7980 samples\n",
            "Epoch 1/30\n",
            "31920/31920 [==============================] - 8s 259us/step - loss: 2.2705 - val_loss: 2.2919\n",
            "\n",
            "Epoch 00001: val_loss improved from inf to 2.29188, saving model to weights.best.hdf5\n",
            "Epoch 2/30\n",
            "31920/31920 [==============================] - 9s 268us/step - loss: 2.2626 - val_loss: 2.2857\n",
            "\n",
            "Epoch 00002: val_loss improved from 2.29188 to 2.28566, saving model to weights.best.hdf5\n",
            "Epoch 3/30\n",
            "31920/31920 [==============================] - 9s 268us/step - loss: 2.2516 - val_loss: 2.2844\n",
            "\n",
            "Epoch 00003: val_loss improved from 2.28566 to 2.28439, saving model to weights.best.hdf5\n",
            "Epoch 4/30\n",
            "31920/31920 [==============================] - 9s 269us/step - loss: 2.2572 - val_loss: 2.2861\n",
            "\n",
            "Epoch 00004: val_loss did not improve from 2.28439\n",
            "Epoch 5/30\n",
            "31920/31920 [==============================] - 9s 267us/step - loss: 2.2430 - val_loss: 2.2729\n",
            "\n",
            "Epoch 00005: val_loss improved from 2.28439 to 2.27285, saving model to weights.best.hdf5\n",
            "Epoch 6/30\n",
            "13000/31920 [===========>..................] - ETA: 4s - loss: 2.2242"
          ],
          "name": "stdout"
        },
        {
          "output_type": "stream",
          "text": [
            "31920/31920 [==============================] - 9s 267us/step - loss: 2.2398 - val_loss: 2.2751\n",
            "\n",
            "Epoch 00006: val_loss did not improve from 2.27285\n",
            "Epoch 7/30\n",
            "31920/31920 [==============================] - 9s 267us/step - loss: 2.2356 - val_loss: 2.2690\n",
            "\n",
            "Epoch 00007: val_loss improved from 2.27285 to 2.26902, saving model to weights.best.hdf5\n",
            "Epoch 8/30\n",
            "31920/31920 [==============================] - 9s 266us/step - loss: 2.2297 - val_loss: 2.2539\n",
            "\n",
            "Epoch 00008: val_loss improved from 2.26902 to 2.25390, saving model to weights.best.hdf5\n",
            "Epoch 9/30\n",
            "31920/31920 [==============================] - 9s 267us/step - loss: 2.2230 - val_loss: 2.2644\n",
            "\n",
            "Epoch 00009: val_loss did not improve from 2.25390\n",
            "Epoch 10/30\n",
            "31920/31920 [==============================] - 9s 270us/step - loss: 2.2295 - val_loss: 2.2574\n",
            "\n",
            "Epoch 00010: val_loss did not improve from 2.25390\n",
            "Epoch 11/30\n",
            "31920/31920 [==============================] - 9s 267us/step - loss: 2.2213 - val_loss: 2.2621\n"
          ],
          "name": "stdout"
        },
        {
          "output_type": "stream",
          "text": [
            "\n",
            "Epoch 00011: val_loss did not improve from 2.25390\n",
            "Epoch 12/30\n",
            "31920/31920 [==============================] - 9s 269us/step - loss: 2.2196 - val_loss: 2.2643\n",
            "\n",
            "Epoch 00012: val_loss did not improve from 2.25390\n",
            "Epoch 13/30\n",
            "31920/31920 [==============================] - 9s 271us/step - loss: 2.2279 - val_loss: 2.2510\n",
            "\n",
            "Epoch 00013: val_loss improved from 2.25390 to 2.25099, saving model to weights.best.hdf5\n",
            "Epoch 14/30\n",
            "31920/31920 [==============================] - 9s 269us/step - loss: 2.2083 - val_loss: 2.2424\n",
            "\n",
            "Epoch 00014: val_loss improved from 2.25099 to 2.24244, saving model to weights.best.hdf5\n",
            "Epoch 15/30\n",
            "31920/31920 [==============================] - 9s 272us/step - loss: 2.2094 - val_loss: 2.2623\n",
            "\n",
            "Epoch 00015: val_loss did not improve from 2.24244\n",
            "Epoch 16/30\n",
            "31920/31920 [==============================] - 9s 271us/step - loss: 2.2216 - val_loss: 2.2418\n",
            "\n",
            "Epoch 00016: val_loss improved from 2.24244 to 2.24178, saving model to weights.best.hdf5\n",
            "Epoch 17/30\n",
            "17000/31920 [==============>...............] - ETA: 3s - loss: 2.2139"
          ],
          "name": "stdout"
        },
        {
          "output_type": "stream",
          "text": [
            "31920/31920 [==============================] - 9s 269us/step - loss: 2.2084 - val_loss: 2.2209\n",
            "\n",
            "Epoch 00017: val_loss improved from 2.24178 to 2.22092, saving model to weights.best.hdf5\n",
            "Epoch 18/30\n",
            "31920/31920 [==============================] - 9s 271us/step - loss: 2.2000 - val_loss: 2.2221\n",
            "\n",
            "Epoch 00018: val_loss did not improve from 2.22092\n",
            "Epoch 19/30\n",
            "31920/31920 [==============================] - 9s 272us/step - loss: 2.1940 - val_loss: 2.2375\n",
            "\n",
            "Epoch 00019: val_loss did not improve from 2.22092\n",
            "Epoch 20/30\n",
            "31920/31920 [==============================] - 9s 272us/step - loss: 2.1940 - val_loss: 2.2135\n",
            "\n",
            "Epoch 00020: val_loss improved from 2.22092 to 2.21351, saving model to weights.best.hdf5\n",
            "Epoch 21/30\n",
            "31920/31920 [==============================] - 9s 270us/step - loss: 2.1951 - val_loss: 2.2286\n",
            "\n",
            "Epoch 00021: val_loss did not improve from 2.21351\n",
            "Epoch 22/30\n",
            "31000/31920 [============================>.] - ETA: 0s - loss: 2.1949"
          ],
          "name": "stdout"
        },
        {
          "output_type": "stream",
          "text": [
            "\b\b\b\b\b\b\b\b\b\b\b\b\b\b\b\b\b\b\b\b\b\b\b\b\b\b\b\b\b\b\b\b\b\b\b\b\b\b\b\b\b\b\b\b\b\b\b\b\b\b\b\b\b\b\b\b\b\b\b\b\b\b\b\b\b\b\b\b\b\r31920/31920 [==============================] - 9s 269us/step - loss: 2.1954 - val_loss: 2.2102\n",
            "\n",
            "Epoch 00022: val_loss improved from 2.21351 to 2.21022, saving model to weights.best.hdf5\n",
            "Epoch 23/30\n",
            "31920/31920 [==============================] - 9s 269us/step - loss: 2.2024 - val_loss: 2.2077\n",
            "\n",
            "Epoch 00023: val_loss improved from 2.21022 to 2.20768, saving model to weights.best.hdf5\n",
            "Epoch 24/30\n",
            "31920/31920 [==============================] - 9s 268us/step - loss: 2.1855 - val_loss: 2.2200\n",
            "\n",
            "Epoch 00024: val_loss did not improve from 2.20768\n",
            "Epoch 25/30\n",
            "31920/31920 [==============================] - 9s 269us/step - loss: 2.1889 - val_loss: 2.2216\n",
            "\n",
            "Epoch 00025: val_loss did not improve from 2.20768\n",
            "Epoch 26/30\n",
            "31920/31920 [==============================] - 9s 270us/step - loss: 2.1830 - val_loss: 2.1992\n",
            "\n",
            "Epoch 00026: val_loss improved from 2.20768 to 2.19916, saving model to weights.best.hdf5\n",
            "Epoch 27/30\n",
            "18000/31920 [===============>..............] - ETA: 3s - loss: 2.1668"
          ],
          "name": "stdout"
        },
        {
          "output_type": "stream",
          "text": [
            "31920/31920 [==============================] - 9s 268us/step - loss: 2.1745 - val_loss: 2.1835\n",
            "\n",
            "Epoch 00027: val_loss improved from 2.19916 to 2.18349, saving model to weights.best.hdf5\n",
            "Epoch 28/30\n",
            "31920/31920 [==============================] - 9s 269us/step - loss: 2.1810 - val_loss: 2.2107\n",
            "\n",
            "Epoch 00028: val_loss did not improve from 2.18349\n",
            "Epoch 29/30\n",
            "31920/31920 [==============================] - 9s 272us/step - loss: 2.1731 - val_loss: 2.1753\n",
            "\n",
            "Epoch 00029: val_loss improved from 2.18349 to 2.17528, saving model to weights.best.hdf5\n",
            "Epoch 30/30\n",
            "31920/31920 [==============================] - 9s 273us/step - loss: 2.1666 - val_loss: 2.2256\n",
            "\n",
            "Epoch 00030: val_loss did not improve from 2.17528\n"
          ],
          "name": "stdout"
        },
        {
          "output_type": "execute_result",
          "data": {
            "text/plain": [
              "<keras.callbacks.History at 0x7ff3423630b8>"
            ]
          },
          "metadata": {
            "tags": []
          },
          "execution_count": 251
        }
      ]
    },
    {
      "metadata": {
        "id": "Lo4_w5DftA8P",
        "colab_type": "text"
      },
      "cell_type": "markdown",
      "source": [
        "xi. Use the network with the best weights to generate 1000 characters, using the\n",
        "following text as initialization of the network:\n",
        "There are those who take mental phenomena naively, just as they\n",
        "would physical phenomena. This school of psychologists tends not to\n",
        "emphasize the object."
      ]
    },
    {
      "metadata": {
        "id": "9KigScN6swwS",
        "colab_type": "code",
        "colab": {
          "autoexec": {
            "startup": false,
            "wait_interval": 0
          },
          "base_uri": "https://localhost:8080/",
          "height": 53
        },
        "outputId": "8f4f0d17-a5e0-4f67-fa2a-14f1ec377b22",
        "executionInfo": {
          "status": "ok",
          "timestamp": 1525492992671,
          "user_tz": 420,
          "elapsed": 719,
          "user": {
            "displayName": "Anmol Chawla",
            "photoUrl": "//lh4.googleusercontent.com/-ehc24lPSfwY/AAAAAAAAAAI/AAAAAAAAAA8/KJ_dyDx6CsY/s50-c-k-no/photo.jpg",
            "userId": "106476212862262781881"
          }
        }
      },
      "cell_type": "code",
      "source": [
        "regressor.load_weights(\"weights.best.hdf5\")\n",
        "pred = regressor.predict(lstm_x_[0:100])\n",
        "for vec in pred:\n",
        "    print(unique[np.where(vec == max(vec))[0][0]], end=\"\")\n",
        "print()\n",
        "for vec in np.array(lstm_y[:100]):\n",
        "    print(unique[np.where(vec == max(vec))[0][0]], end=\"\")\n"
      ],
      "execution_count": 0,
      "outputs": [
        {
          "output_type": "stream",
          "text": [
            "halon     ifvetenl  tense tn the  torse on ih ch tn tere  the   tf e  tf  thesetoffnculnein thally t\n",
            "easonable man could doubt it this question which at first sight might not seem difficult is really o"
          ],
          "name": "stdout"
        }
      ]
    },
    {
      "metadata": {
        "id": "xj6dhxittZPM",
        "colab_type": "code",
        "colab": {
          "autoexec": {
            "startup": false,
            "wait_interval": 0
          },
          "base_uri": "https://localhost:8080/",
          "height": 35
        },
        "outputId": "8334e430-f6a5-403f-9860-aba73af56968",
        "executionInfo": {
          "status": "ok",
          "timestamp": 1525493015503,
          "user_tz": 420,
          "elapsed": 6591,
          "user": {
            "displayName": "Anmol Chawla",
            "photoUrl": "//lh4.googleusercontent.com/-ehc24lPSfwY/AAAAAAAAAAI/AAAAAAAAAA8/KJ_dyDx6CsY/s50-c-k-no/photo.jpg",
            "userId": "106476212862262781881"
          }
        }
      },
      "cell_type": "code",
      "source": [
        "test = \"There are those who take mental phenomena naively, just as they would physical phenomena. This school of psychologists tends not to emphasize the object\"\n",
        "\n",
        "\n",
        "for i in range(100):\n",
        "    hold = test.lower()[-100:]\n",
        "    exclude = set(string.punctuation) \n",
        "    exclude.add('\\xa0')\n",
        "    exclude.add('″')\n",
        "    exclude.add('\\ufeff')\n",
        "    exclude.add('\\n')\n",
        "    hold = ''.join(ch for ch in hold if ch not in exclude)\n",
        "    lstm_hold = np.array([ref[x] for x in hold])\n",
        "    lstm_hold = lstm_hold[-99:]\n",
        "    lstm_hold = lstm_hold.reshape(1, 99, 1)\n",
        "    \n",
        "    predicting = regressor.predict(lstm_hold)\n",
        "    for vec in predicting:\n",
        "        print(unique[np.where(vec == max(vec))[0][0]], end=\"\")\n",
        "        test += unique[np.where(vec == max(vec))[0][0]]\n",
        "  \n",
        "  "
      ],
      "execution_count": 0,
      "outputs": [
        {
          "output_type": "stream",
          "text": [
            " the table and the table and the table and the table and the table and the table and the table and t"
          ],
          "name": "stdout"
        }
      ]
    },
    {
      "metadata": {
        "id": "CGBxhfuw2ks_",
        "colab_type": "text"
      },
      "cell_type": "markdown",
      "source": [
        "# 2. (Deep) CNNs for Image Colorization\n"
      ]
    },
    {
      "metadata": {
        "id": "9T-lMOu51rR0",
        "colab_type": "code",
        "colab": {
          "autoexec": {
            "startup": false,
            "wait_interval": 0
          },
          "resources": {
            "http://localhost:8080/nbextensions/google.colab/files.js": {
              "data": "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",
              "ok": true,
              "headers": [
                [
                  "content-type",
                  "application/javascript"
                ]
              ],
              "status": 200,
              "status_text": ""
            }
          },
          "base_uri": "https://localhost:8080/",
          "height": 38
        },
        "outputId": "b775df7f-aea3-4325-9d0c-356df9288cf6",
        "executionInfo": {
          "status": "ok",
          "timestamp": 1525493156560,
          "user_tz": 420,
          "elapsed": 30950,
          "user": {
            "displayName": "Anmol Chawla",
            "photoUrl": "//lh4.googleusercontent.com/-ehc24lPSfwY/AAAAAAAAAAI/AAAAAAAAAA8/KJ_dyDx6CsY/s50-c-k-no/photo.jpg",
            "userId": "106476212862262781881"
          }
        }
      },
      "cell_type": "code",
      "source": [
        "from google.colab import files\n",
        "uploaded = files.upload()\n",
        "for fn in uploaded.keys():\n",
        "   print('User uploaded file \"{name}\" with length {length} bytes'.format(name=fn, length=len(uploaded[fn])))"
      ],
      "execution_count": 0,
      "outputs": [
        {
          "output_type": "display_data",
          "data": {
            "text/html": [
              "\n",
              "     <input type=\"file\" id=\"files-8527bac2-d834-4829-a940-7b62d413d4c6\" name=\"files[]\" multiple disabled />\n",
              "     <output id=\"result-8527bac2-d834-4829-a940-7b62d413d4c6\">\n",
              "      Upload widget is only available when the cell has been executed in the\n",
              "      current browser session. Please rerun this cell to enable.\n",
              "      </output>\n",
              "      <script src=\"/nbextensions/google.colab/files.js\"></script> "
            ],
            "text/plain": [
              "<IPython.core.display.HTML object>"
            ]
          },
          "metadata": {
            "tags": []
          }
        }
      ]
    },
    {
      "metadata": {
        "id": "n5mFqriL104z",
        "colab_type": "code",
        "colab": {
          "autoexec": {
            "startup": false,
            "wait_interval": 0
          }
        }
      },
      "cell_type": "code",
      "source": [
        "def unpickle(file):\n",
        "    with open(file, 'rb') as f:\n",
        "        data = pickle.load(f, encoding='latin-1')\n",
        "    return data\n",
        "\n",
        "\n",
        "def load_cifar10_data():\n",
        "    train_data = None\n",
        "    train_labels = []\n",
        "\n",
        "    for i in range(1, 6):\n",
        "        data_dic = unpickle(data_dir + \"data_batch_{}\".format(i))\n",
        "        if i == 1:\n",
        "            train_data = data_dic['data']\n",
        "        else:\n",
        "            train_data = np.vstack((train_data, data_dic['data']))\n",
        "        train_labels += data_dic['labels']\n",
        "    test_data_dic = unpickle(data_dir + \"test_batch\")\n",
        "    test_data = test_data_dic['data']\n",
        "    test_labels = test_data_dic['labels']\n",
        "\n",
        "    train_data = train_data.reshape((len(train_data), 3, 32, 32))\n",
        "    train_data = np.rollaxis(train_data, 1, 4)\n",
        "    train_labels = np.array(train_labels)\n",
        "\n",
        "    test_data = test_data.reshape((len(test_data), 3, 32, 32))\n",
        "    test_data = np.rollaxis(test_data, 1, 4)\n",
        "    test_labels = np.array(test_labels)\n",
        "\n",
        "    return train_data, train_labels, test_data, test_labels"
      ],
      "execution_count": 0,
      "outputs": []
    },
    {
      "metadata": {
        "id": "_CdSzTbh1gIS",
        "colab_type": "code",
        "colab": {
          "autoexec": {
            "startup": false,
            "wait_interval": 0
          }
        }
      },
      "cell_type": "code",
      "source": [
        "def kmean():\n",
        "      window, t1, t2, t3 = original_shape = tuple(bird.shape)\n",
        "      assert t3 == 3\n",
        "      img = np.reshape(bird, (window * t1 * t2, t3))\n",
        "      clf = KMeans(n_clusters=4,n_init=3, max_iter=300)\n",
        "      clf.fit(img)\n",
        "      labels = clf.labels_\n",
        "      centroids = clf.cluster_centers_\n",
        "      result = [] \n",
        "          for idx, i in enumerate(labels):     \n",
        "              pad = np.zeros(4)     \n",
        "              index = [i]     \n",
        "              pad[index] = 1     \n",
        "              result.append(pad)\n",
        "    "
      ],
      "execution_count": 0,
      "outputs": []
    },
    {
      "metadata": {
        "id": "GEBIWbKt2Vz3",
        "colab_type": "code",
        "colab": {
          "autoexec": {
            "startup": false,
            "wait_interval": 0
          }
        }
      },
      "cell_type": "code",
      "source": [
        "def clr2gray():\n",
        "  for index, i in enumerate(bird):\n",
        "    if index == 0:\n",
        "        g_ar = cv2.cvtColor(i,cv2.COLOR_BGR2GRAY)\n",
        "        g_ar = np.expand_dims(np.expand_dims(g_ar,axis=0), axis = -1)\n",
        "    else:\n",
        "        color_convert = cv2.cvtColor(i,cv2.COLOR_BGR2GRAY)\n",
        "        g_ar = np.vstack((g_ar, np.expand_dims(np.expand_dims(color_convert, axis=0), axis = -1)))"
      ],
      "execution_count": 0,
      "outputs": []
    },
    {
      "metadata": {
        "id": "cYjVj-DDuLhY",
        "colab_type": "text"
      },
      "cell_type": "markdown",
      "source": [
        "(a) This assignment uses a convolutional neural network for image colorization which\n",
        "turns a grayscale image to a colored image.4 By converting an image to grayscale,\n",
        "we loose color information, so converting a grayscale image back to a colored\n",
        "version is not an easy job. We will use the CIFAR-10 dataset. Downolad the\n",
        "dataset from http://www.cs.toronto.edu/~kriz/cifar-10-python.tar.gz.\n",
        "\n",
        "4MATLAB seems to have an easy to use CNN library. https://www.mathworks.com/help/nnet/\n",
        "examples/train-a-convolutional-neural-network-for-regression.html\n",
        "3\n"
      ]
    },
    {
      "metadata": {
        "id": "AxA6UMxU9_77",
        "colab_type": "code",
        "colab": {
          "autoexec": {
            "startup": false,
            "wait_interval": 0
          },
          "base_uri": "https://localhost:8080/",
          "height": 35
        },
        "outputId": "ffdbe919-ca05-43af-874b-18cb9b40fcc8",
        "executionInfo": {
          "status": "ok",
          "timestamp": 1525499156195,
          "user_tz": 420,
          "elapsed": 1514,
          "user": {
            "displayName": "Anmol Chawla",
            "photoUrl": "//lh4.googleusercontent.com/-ehc24lPSfwY/AAAAAAAAAAI/AAAAAAAAAA8/KJ_dyDx6CsY/s50-c-k-no/photo.jpg",
            "userId": "106476212862262781881"
          }
        }
      },
      "cell_type": "code",
      "source": [
        "import pickle\n",
        "import matplotlib.pyplot as plt\n",
        "import numpy as np\n",
        "import cv2\n",
        "import pandas as pd\n",
        "from sklearn.model_selection import train_test_split\n",
        "from sklearn.cluster import KMeans\n",
        "from sklearn.metrics import accuracy_score\n",
        "from keras.models import Sequential\n",
        "from keras.layers import Dropout, MaxPooling2D, Conv2D, Dense, LSTM\n",
        "from keras.callbacks import ModelCheckpoint\n",
        "from keras.utils import np_utils"
      ],
      "execution_count": 1,
      "outputs": [
        {
          "output_type": "stream",
          "text": [
            "Using TensorFlow backend.\n"
          ],
          "name": "stderr"
        }
      ]
    },
    {
      "metadata": {
        "id": "2TUKe1CI163b",
        "colab_type": "code",
        "colab": {
          "autoexec": {
            "startup": false,
            "wait_interval": 0
          },
          "base_uri": "https://localhost:8080/",
          "height": 70
        },
        "outputId": "cb950db0-7d43-4040-bf8d-b64fc8c98bc8",
        "executionInfo": {
          "status": "ok",
          "timestamp": 1525493164039,
          "user_tz": 420,
          "elapsed": 710,
          "user": {
            "displayName": "Anmol Chawla",
            "photoUrl": "//lh4.googleusercontent.com/-ehc24lPSfwY/AAAAAAAAAAI/AAAAAAAAAA8/KJ_dyDx6CsY/s50-c-k-no/photo.jpg",
            "userId": "106476212862262781881"
          }
        }
      },
      "cell_type": "code",
      "source": [
        "train_data, train_labels, test_data, test_labels = load_cifar10_data()\n",
        "print(train_data.shape) \n",
        "print(train_labels.shape)\n",
        "print(test_data.shape)"
      ],
      "execution_count": 0,
      "outputs": [
        {
          "output_type": "stream",
          "text": [
            "(50000, 32, 32, 3)\n",
            "(50000,)\n",
            "(10000, 32, 32, 3)\n"
          ],
          "name": "stdout"
        }
      ]
    },
    {
      "metadata": {
        "id": "P_PawrNVIlkQ",
        "colab_type": "text"
      },
      "cell_type": "markdown",
      "source": [
        " data shape"
      ]
    },
    {
      "metadata": {
        "id": "rR7MX80dtgE6",
        "colab_type": "text"
      },
      "cell_type": "markdown",
      "source": [
        "(b) From the train and test dataset, extract the class birds. We will focus on this\n",
        "class, which has 6000 members."
      ]
    },
    {
      "metadata": {
        "id": "WsmnGJFg4gVM",
        "colab_type": "code",
        "colab": {
          "autoexec": {
            "startup": false,
            "wait_interval": 0
          }
        }
      },
      "cell_type": "code",
      "source": [
        "train_data, train_labels = train_data[train_labels == 2], train_labels[train_labels == 2]\n",
        "test_data, test_labels = test_data[test_labels == 2] , test_labels[test_labels==2]"
      ],
      "execution_count": 0,
      "outputs": []
    },
    {
      "metadata": {
        "id": "25RqU6s-u6BL",
        "colab_type": "text"
      },
      "cell_type": "markdown",
      "source": [
        "(c) Those 6000 images have 6000 × 32 × 32 pixels. Choose at least 10% of the pixels\n",
        "randomly. It is strongly recommended that you choose a large number or all of\n",
        "the pixels. You will have between P = 614400 and P = 6144000 pixels. Each\n",
        "pixel is an RGB vector with three elements."
      ]
    },
    {
      "metadata": {
        "id": "i1fTpOr4_ZCH",
        "colab_type": "text"
      },
      "cell_type": "markdown",
      "source": [
        "Using all pixels"
      ]
    },
    {
      "metadata": {
        "id": "TVjVzujAJeX-",
        "colab_type": "text"
      },
      "cell_type": "markdown",
      "source": [
        "Loading all bird data together"
      ]
    },
    {
      "metadata": {
        "id": "yKC1PAJzAyHQ",
        "colab_type": "code",
        "colab": {
          "autoexec": {
            "startup": false,
            "wait_interval": 0
          },
          "base_uri": "https://localhost:8080/",
          "height": 35
        },
        "outputId": "144468fc-8429-4f64-8539-a1278fa5ced7",
        "executionInfo": {
          "status": "ok",
          "timestamp": 1525493174205,
          "user_tz": 420,
          "elapsed": 251,
          "user": {
            "displayName": "Anmol Chawla",
            "photoUrl": "//lh4.googleusercontent.com/-ehc24lPSfwY/AAAAAAAAAAI/AAAAAAAAAA8/KJ_dyDx6CsY/s50-c-k-no/photo.jpg",
            "userId": "106476212862262781881"
          }
        }
      },
      "cell_type": "code",
      "source": [
        "bird = np.vstack((train_data, test_data))\n",
        "bird.shape"
      ],
      "execution_count": 0,
      "outputs": [
        {
          "output_type": "execute_result",
          "data": {
            "text/plain": [
              "(6000, 32, 32, 3)"
            ]
          },
          "metadata": {
            "tags": []
          },
          "execution_count": 263
        }
      ]
    },
    {
      "metadata": {
        "id": "wAsTmtwku9Oj",
        "colab_type": "text"
      },
      "cell_type": "markdown",
      "source": [
        "(d) Run k-means clustering on the P vectors using k = 4. The centers of the clusters\n",
        "will be your main colors. Convert the colored images to k-color images by converting\n",
        "each pixel’s value to the closest main color in terms of Euclidean distance.\n",
        "These are the outputs of your network, whose each pixel falls in one of those k\n",
        "classes."
      ]
    },
    {
      "metadata": {
        "id": "64P6rf0i4o9a",
        "colab_type": "code",
        "colab": {
          "autoexec": {
            "startup": false,
            "wait_interval": 0
          },
          "base_uri": "https://localhost:8080/",
          "height": 35
        },
        "outputId": "ef1c1311-41e0-4435-b986-f064b45f569c",
        "executionInfo": {
          "status": "ok",
          "timestamp": 1525493230200,
          "user_tz": 420,
          "elapsed": 54893,
          "user": {
            "displayName": "Anmol Chawla",
            "photoUrl": "//lh4.googleusercontent.com/-ehc24lPSfwY/AAAAAAAAAAI/AAAAAAAAAA8/KJ_dyDx6CsY/s50-c-k-no/photo.jpg",
            "userId": "106476212862262781881"
          }
        }
      },
      "cell_type": "code",
      "source": [
        "kmean()\n",
        "y_train = np.array(result)\n",
        "y_train = np.reshape(y_train,(6000,32,32,4))\n",
        "y_train.shape"
      ],
      "execution_count": 0,
      "outputs": [
        {
          "output_type": "execute_result",
          "data": {
            "text/plain": [
              "(6000, 32, 32, 4)"
            ]
          },
          "metadata": {
            "tags": []
          },
          "execution_count": 264
        }
      ]
    },
    {
      "metadata": {
        "id": "7-GB-A5eu_92",
        "colab_type": "text"
      },
      "cell_type": "markdown",
      "source": [
        "(e) Use any tool (e.g., openCV or scikit-learn) to obtain grayscale 32 × 32 × 1 images\n",
        "from the original 32 × 32 × 3 images. The grayscale images are inputs of your\n",
        "network."
      ]
    },
    {
      "metadata": {
        "id": "Pe_UXN9j40G8",
        "colab_type": "code",
        "colab": {
          "autoexec": {
            "startup": false,
            "wait_interval": 0
          },
          "base_uri": "https://localhost:8080/",
          "height": 35
        },
        "outputId": "b6391a8d-121e-49cc-aeba-6c323742b961",
        "executionInfo": {
          "status": "ok",
          "timestamp": 1525493268695,
          "user_tz": 420,
          "elapsed": 2152,
          "user": {
            "displayName": "Anmol Chawla",
            "photoUrl": "//lh4.googleusercontent.com/-ehc24lPSfwY/AAAAAAAAAAI/AAAAAAAAAA8/KJ_dyDx6CsY/s50-c-k-no/photo.jpg",
            "userId": "106476212862262781881"
          }
        }
      },
      "cell_type": "code",
      "source": [
        "clr2gray()       \n",
        "g_ar.shape"
      ],
      "execution_count": 0,
      "outputs": [
        {
          "output_type": "execute_result",
          "data": {
            "text/plain": [
              "(6000, 32, 32, 1)"
            ]
          },
          "metadata": {
            "tags": []
          },
          "execution_count": 265
        }
      ]
    },
    {
      "metadata": {
        "id": "KzET93SDvCoD",
        "colab_type": "text"
      },
      "cell_type": "markdown",
      "source": [
        "(f) Set up a deep convolutional neural network with two convolution layers and two\n",
        "MLP layers with. Use 5 × 5 filters and a softmax layer. Determine the number\n",
        "of filters, strides, and whether or not to use padding yourself. Use a minimum of\n",
        "one max pooling layer. Your input is a grayscale version of an image (32×32×1)\n",
        "and the output is a 32×32×3 image that is colored using the main colors. Use a\n",
        "classification scheme, which means your output must determine one of the k color\n",
        "classes for each pixel in your grayscale image. Train at least for 5 epochs. Plot\n",
        "training, (validation), and test errors in each epoch. Report the train and test\n",
        "errors and visually compare the artificially colored versions of the first 10 images\n",
        "in the test set with the original images."
      ]
    },
    {
      "metadata": {
        "id": "2cPYN2QqQMMi",
        "colab_type": "code",
        "colab": {
          "autoexec": {
            "startup": false,
            "wait_interval": 0
          },
          "base_uri": "https://localhost:8080/",
          "height": 319
        },
        "outputId": "cba272c3-d94e-4ef1-b78a-c413e66a8f45",
        "executionInfo": {
          "status": "ok",
          "timestamp": 1525493272931,
          "user_tz": 420,
          "elapsed": 466,
          "user": {
            "displayName": "Anmol Chawla",
            "photoUrl": "//lh4.googleusercontent.com/-ehc24lPSfwY/AAAAAAAAAAI/AAAAAAAAAA8/KJ_dyDx6CsY/s50-c-k-no/photo.jpg",
            "userId": "106476212862262781881"
          }
        }
      },
      "cell_type": "code",
      "source": [
        "#Building a CNN\n",
        "cnn = Sequential()\n",
        "cnn.add(Conv2D(64, kernel_size = (5,5), strides=(1, 1), padding='same', input_shape = (32,32,1)))\n",
        "cnn.add(MaxPooling2D(pool_size=(2, 2), strides=(1, 1), padding='same'))\n",
        "cnn.add(Conv2D(64, kernel_size = (5,5), strides=(1, 1), padding='same'))\n",
        "cnn.add(Dense(36, activation='softmax'))\n",
        "cnn.add(Dense(4, activation='softmax'))\n",
        "cnn.summary()"
      ],
      "execution_count": 0,
      "outputs": [
        {
          "output_type": "stream",
          "text": [
            "_________________________________________________________________\n",
            "Layer (type)                 Output Shape              Param #   \n",
            "=================================================================\n",
            "conv2d_25 (Conv2D)           (None, 32, 32, 64)        1664      \n",
            "_________________________________________________________________\n",
            "max_pooling2d_13 (MaxPooling (None, 32, 32, 64)        0         \n",
            "_________________________________________________________________\n",
            "conv2d_26 (Conv2D)           (None, 32, 32, 64)        102464    \n",
            "_________________________________________________________________\n",
            "dense_27 (Dense)             (None, 32, 32, 36)        2340      \n",
            "_________________________________________________________________\n",
            "dense_28 (Dense)             (None, 32, 32, 4)         148       \n",
            "=================================================================\n",
            "Total params: 106,616\n",
            "Trainable params: 106,616\n",
            "Non-trainable params: 0\n",
            "_________________________________________________________________\n"
          ],
          "name": "stdout"
        }
      ]
    },
    {
      "metadata": {
        "id": "56OUYjmp5A5l",
        "colab_type": "code",
        "colab": {
          "autoexec": {
            "startup": false,
            "wait_interval": 0
          },
          "base_uri": "https://localhost:8080/",
          "height": 769
        },
        "outputId": "86719665-fcda-48f9-f9c5-09d7878d689c",
        "executionInfo": {
          "status": "ok",
          "timestamp": 1525493314278,
          "user_tz": 420,
          "elapsed": 37639,
          "user": {
            "displayName": "Anmol Chawla",
            "photoUrl": "//lh4.googleusercontent.com/-ehc24lPSfwY/AAAAAAAAAAI/AAAAAAAAAA8/KJ_dyDx6CsY/s50-c-k-no/photo.jpg",
            "userId": "106476212862262781881"
          }
        }
      },
      "cell_type": "code",
      "source": [
        "cnn.compile(loss='categorical_crossentropy', optimizer='sgd', metrics = ['accuracy'])\n",
        "X_train, X_test, y_train, y_test = train_test_split(g_ar, y_train,test_size=0.167)\n",
        "prev = cnn.fit(X_train, y_train, epochs=10, validation_split=0.33)\n",
        "cnn.save_weights(\"model.h5\")\n",
        "plt.plot(prev.history['loss'])\n",
        "plt.plot(prev.history['val_loss'])\n",
        "plt.title('train loss vs validation loss')\n",
        "plt.ylabel('loss')\n",
        "plt.xlabel('epoch')\n",
        "plt.legend(['train', 'validation'], loc='upper right')\n",
        "plt.show()"
      ],
      "execution_count": 0,
      "outputs": [
        {
          "output_type": "stream",
          "text": [
            "Train on 3347 samples, validate on 1650 samples\n",
            "Epoch 1/10\n",
            "3347/3347 [==============================] - 4s 1ms/step - loss: 1.3640 - acc: 0.3690 - val_loss: 1.3463 - val_acc: 0.3711\n",
            "Epoch 2/10\n",
            "3347/3347 [==============================] - 4s 1ms/step - loss: 1.3294 - acc: 0.3877 - val_loss: 1.3098 - val_acc: 0.3863\n",
            "Epoch 3/10\n",
            "3347/3347 [==============================] - 4s 1ms/step - loss: 1.3109 - acc: 0.4014 - val_loss: 1.3103 - val_acc: 0.3951\n",
            "Epoch 4/10\n",
            "3347/3347 [==============================] - 4s 1ms/step - loss: 1.2945 - acc: 0.4104 - val_loss: 1.3034 - val_acc: 0.3921\n",
            "Epoch 5/10\n",
            "2528/3347 [=====================>........] - ETA: 0s - loss: 1.2785 - acc: 0.4144"
          ],
          "name": "stdout"
        },
        {
          "output_type": "stream",
          "text": [
            "3347/3347 [==============================] - 4s 1ms/step - loss: 1.2777 - acc: 0.4185 - val_loss: 1.2679 - val_acc: 0.4206\n",
            "Epoch 6/10\n",
            "3347/3347 [==============================] - 4s 1ms/step - loss: 1.2682 - acc: 0.4185 - val_loss: 1.2590 - val_acc: 0.4188\n",
            "Epoch 7/10\n",
            "3347/3347 [==============================] - 4s 1ms/step - loss: 1.2551 - acc: 0.4195 - val_loss: 1.2586 - val_acc: 0.3918\n",
            "Epoch 8/10\n",
            "3347/3347 [==============================] - 4s 1ms/step - loss: 1.2467 - acc: 0.4180 - val_loss: 1.2529 - val_acc: 0.4199\n",
            "Epoch 9/10\n",
            "3347/3347 [==============================] - 4s 1ms/step - loss: 1.2357 - acc: 0.4193 - val_loss: 1.2284 - val_acc: 0.4180\n",
            "Epoch 10/10\n",
            " 800/3347 [======>.......................] - ETA: 2s - loss: 1.2372 - acc: 0.4150"
          ],
          "name": "stdout"
        },
        {
          "output_type": "stream",
          "text": [
            "3347/3347 [==============================] - 4s 1ms/step - loss: 1.2271 - acc: 0.4199 - val_loss: 1.2334 - val_acc: 0.3818\n"
          ],
          "name": "stdout"
        },
        {
          "output_type": "display_data",
          "data": {
            "image/png": "[encoded data removed]",
            "text/plain": [
              "<matplotlib.figure.Figure at 0x7ff349131240>"
            ]
          },
          "metadata": {
            "tags": []
          }
        }
      ]
    },
    {
      "metadata": {
        "id": "fHTI_lF_5JLE",
        "colab_type": "code",
        "colab": {
          "autoexec": {
            "startup": false,
            "wait_interval": 0
          },
          "base_uri": "https://localhost:8080/",
          "height": 35
        },
        "outputId": "1208115c-08a8-4a47-9dd2-4c9069d01348",
        "executionInfo": {
          "status": "ok",
          "timestamp": 1525493363939,
          "user_tz": 420,
          "elapsed": 274,
          "user": {
            "displayName": "Anmol Chawla",
            "photoUrl": "//lh4.googleusercontent.com/-ehc24lPSfwY/AAAAAAAAAAI/AAAAAAAAAA8/KJ_dyDx6CsY/s50-c-k-no/photo.jpg",
            "userId": "106476212862262781881"
          }
        }
      },
      "cell_type": "code",
      "source": [
        "cnn.load_weights(\"model.h5\")\n",
        "res_ = []\n",
        "acc_ = []\n",
        "pre_ = []\n",
        "for x, y in zip(X_test,y_test):\n",
        "    pred = cnn.predict(np.expand_dims(x, axis=0))\n",
        "    result = [] \n",
        "    for i in np.reshape(pred, (-1, 4)):\n",
        "        index = [np.argmax(i)]\n",
        "        pad = np.zeros(4)\n",
        "        pad[index] =1\n",
        "        result.append(pad)\n",
        "    \n",
        "    acc = accuracy_score(np.array([np.argmax(i) for i in np.reshape(np.array(result), (-1,4))]), np.array([np.argmax(i) for i in np.reshape(y,(-1,4))]))\n",
        "    res_.append(result)\n",
        "    acc_.append(acc)\n",
        "    pre_.append(pred)\n",
        "test_error = 1- np.average(np.array(acc_))\n",
        "test_error"
      ],
      "execution_count": 0,
      "outputs": [
        {
          "output_type": "execute_result",
          "data": {
            "text/plain": [
              "0.6240273320663011"
            ]
          },
          "metadata": {
            "tags": []
          },
          "execution_count": 271
        }
      ]
    },
    {
      "metadata": {
        "id": "65lshPhz5LNi",
        "colab_type": "code",
        "colab": {
          "autoexec": {
            "startup": false,
            "wait_interval": 0
          },
          "base_uri": "https://localhost:8080/",
          "height": 335
        },
        "outputId": "d83d6238-31e6-4c11-b5d7-3a2df5ee89e7",
        "executionInfo": {
          "status": "ok",
          "timestamp": 1525493387501,
          "user_tz": 420,
          "elapsed": 1939,
          "user": {
            "displayName": "Anmol Chawla",
            "photoUrl": "//lh4.googleusercontent.com/-ehc24lPSfwY/AAAAAAAAAAI/AAAAAAAAAA8/KJ_dyDx6CsY/s50-c-k-no/photo.jpg",
            "userId": "106476212862262781881"
          }
        }
      },
      "cell_type": "code",
      "source": [
        "fig,row = plt.subplots(nrows = 3, ncols = 10, figsize=(20,5))\n",
        "for ax in row.flatten():\n",
        "    ax.axis('off')\n",
        "    \n",
        "for j in range(10):\n",
        "    row[0,j].imshow(np.reshape(np.array([centroids[np.argmax(i)] for i in np.reshape(prediction[j], (-1,4))]), (32,32,-1)))\n",
        "    row[0,j].set_title('Predicted')\n",
        "    row[2,j].imshow(np.squeeze(X_test[j]))\n",
        "    row[2,j].set_title('Actual')    \n",
        "plt.show()"
      ],
      "execution_count": 0,
      "outputs": [
        {
          "output_type": "display_data",
          "data": {
            "image/png": "[encoded data removed]",
            "text/plain": [
              "<matplotlib.figure.Figure at 0x7ff3fdb0fbe0>"
            ]
          },
          "metadata": {
            "tags": []
          }
        }
      ]
    }
  ]
}